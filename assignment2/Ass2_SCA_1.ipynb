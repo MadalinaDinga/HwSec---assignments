{
 "cells": [
  {
   "cell_type": "code",
   "execution_count": 1,
   "metadata": {},
   "outputs": [],
   "source": [
    "# Dinga Madalina (s1033146)\n",
    "# Vahdad Alireza (S1015567)\n",
    "\n",
    "import numpy as np\n",
    "import matplotlib.pyplot as plt\n",
    "import scipy.io\n",
    "\n",
    "def load_outputs():\n",
    "    # Open and read the “output_data” Matlab file, containing the output bytes\n",
    "    outputs = scipy.io.loadmat(r'.\\data1\\output_data.mat')\n",
    "\n",
    "    # Get outputs as numpy array\n",
    "    outputs = outputs['output_data']\n",
    "\n",
    "    return outputs"
   ]
  },
  {
   "cell_type": "markdown",
   "metadata": {},
   "source": [
    "#### Traces/ measurement matrix: No_inputs X No_samples"
   ]
  },
  {
   "cell_type": "code",
   "execution_count": 2,
   "metadata": {},
   "outputs": [],
   "source": [
    "def load_traces():\n",
    "    # Open and read the “hardware_traces” Matlab file, containing the traceset (10k traces, 2k samples each)\n",
    "    traces = scipy.io.loadmat(r'.\\data1\\hardware_traces.mat')\n",
    "    \n",
    "    traces = traces['traces']\n",
    "    \n",
    "    return traces"
   ]
  },
  {
   "cell_type": "code",
   "execution_count": 3,
   "metadata": {},
   "outputs": [],
   "source": [
    "# Read data\n",
    "outputs = load_outputs()\n",
    "traces = load_traces()\n",
    "\n",
    "# 10k 8-bit outputs used in the attack \n",
    "no_outputs = np.shape(outputs)[0]\n",
    "\n",
    "# 10k traces of 2k time samples each\n",
    "no_traces = np.shape(traces)[0]\n",
    "\n",
    "assert(no_traces == no_outputs)\n",
    "assert(no_outputs == 10000)\n",
    "assert(np.shape(traces) == (10000, 2000))"
   ]
  },
  {
   "cell_type": "code",
   "execution_count": 4,
   "metadata": {},
   "outputs": [],
   "source": [
    "def plot_1st_trace():\n",
    "    plt.plot(traces[0])\n",
    "    plt.title(\"Representation of the 1st trace in time\")\n",
    "    plt.xlabel(\"Power consumption\")\n",
    "    plt.ylabel(\"Time\")\n",
    "    plt.show()"
   ]
  },
  {
   "cell_type": "markdown",
   "metadata": {},
   "source": [
    "The encryption algorithm used is AES-128 (10 rounds for 128-bit keys)"
   ]
  },
  {
   "cell_type": "code",
   "execution_count": 5,
   "metadata": {},
   "outputs": [
    {
     "data": {
      "image/png": "[encoded data removed]",
      "text/plain": [
       "<Figure size 432x288 with 1 Axes>"
      ]
     },
     "metadata": {
      "needs_background": "light"
     },
     "output_type": "display_data"
    }
   ],
   "source": [
    "plot_1st_trace()"
   ]
  },
  {
   "cell_type": "markdown",
   "metadata": {},
   "source": [
    "Invert the S-Box in order to create predictions about the input value Sin."
   ]
  },
  {
   "cell_type": "code",
   "execution_count": 7,
   "metadata": {},
   "outputs": [],
   "source": [
    "# Takes a 8-bit value of output and a 8-bit value of the hypothetical key\n",
    "# Returns the output of the inverted S-Box\n",
    "\n",
    "def inverted_SBox(out_val, key):\n",
    "    return inv_sbox[out_val ^ key]"
   ]
  },
  {
   "cell_type": "code",
   "execution_count": 9,
   "metadata": {},
   "outputs": [],
   "source": [
    "inv_sbox= (0x52 ,0x09 ,0x6a ,0xd5 ,0x30 ,0x36 ,0xa5 ,0x38 ,0xbf ,0x40 ,0xa3 ,0x9e ,0x81 ,0xf3 ,0xd7 ,0xfb\n",
    " ,0x7c ,0xe3 ,0x39 ,0x82 ,0x9b ,0x2f ,0xff ,0x87 ,0x34 ,0x8e ,0x43 ,0x44 ,0xc4 ,0xde ,0xe9 ,0xcb\n",
    " ,0x54 ,0x7b ,0x94 ,0x32 ,0xa6 ,0xc2 ,0x23 ,0x3d ,0xee ,0x4c ,0x95 ,0x0b ,0x42 ,0xfa ,0xc3 ,0x4e\n",
    " ,0x08 ,0x2e ,0xa1 ,0x66 ,0x28 ,0xd9 ,0x24 ,0xb2 ,0x76 ,0x5b ,0xa2 ,0x49 ,0x6d ,0x8b ,0xd1 ,0x25\n",
    " ,0x72 ,0xf8 ,0xf6 ,0x64 ,0x86 ,0x68 ,0x98 ,0x16 ,0xd4 ,0xa4 ,0x5c ,0xcc ,0x5d ,0x65 ,0xb6 ,0x92\n",
    " ,0x6c ,0x70 ,0x48 ,0x50 ,0xfd ,0xed ,0xb9 ,0xda ,0x5e ,0x15 ,0x46 ,0x57 ,0xa7 ,0x8d ,0x9d ,0x84\n",
    " ,0x90 ,0xd8 ,0xab ,0x00 ,0x8c ,0xbc ,0xd3 ,0x0a ,0xf7 ,0xe4 ,0x58 ,0x05 ,0xb8 ,0xb3 ,0x45 ,0x06\n",
    " ,0xd0 ,0x2c ,0x1e ,0x8f ,0xca ,0x3f ,0x0f ,0x02 ,0xc1 ,0xaf ,0xbd ,0x03 ,0x01 ,0x13 ,0x8a ,0x6b\n",
    " ,0x3a ,0x91 ,0x11 ,0x41 ,0x4f ,0x67 ,0xdc ,0xea ,0x97 ,0xf2 ,0xcf ,0xce ,0xf0 ,0xb4 ,0xe6 ,0x73\n",
    " ,0x96 ,0xac ,0x74 ,0x22 ,0xe7 ,0xad ,0x35 ,0x85 ,0xe2 ,0xf9 ,0x37 ,0xe8 ,0x1c ,0x75 ,0xdf ,0x6e\n",
    " ,0x47 ,0xf1 ,0x1a ,0x71 ,0x1d ,0x29 ,0xc5 ,0x89 ,0x6f ,0xb7 ,0x62 ,0x0e ,0xaa ,0x18 ,0xbe ,0x1b\n",
    " ,0xfc ,0x56 ,0x3e ,0x4b ,0xc6 ,0xd2 ,0x79 ,0x20 ,0x9a ,0xdb ,0xc0 ,0xfe ,0x78 ,0xcd ,0x5a ,0xf4\n",
    " ,0x1f ,0xdd ,0xa8 ,0x33 ,0x88 ,0x07 ,0xc7 ,0x31 ,0xb1 ,0x12 ,0x10 ,0x59 ,0x27 ,0x80 ,0xec ,0x5f\n",
    " ,0x60 ,0x51 ,0x7f ,0xa9 ,0x19 ,0xb5 ,0x4a ,0x0d ,0x2d ,0xe5 ,0x7a ,0x9f ,0x93 ,0xc9 ,0x9c ,0xef\n",
    " ,0xa0 ,0xe0 ,0x3b ,0x4d ,0xae ,0x2a ,0xf5 ,0xb0 ,0xc8 ,0xeb ,0xbb ,0x3c ,0x83 ,0x53 ,0x99 ,0x61\n",
    " ,0x17 ,0x2b ,0x04 ,0x7e ,0xba ,0x77 ,0xd6 ,0x26 ,0xe1 ,0x69 ,0x14 ,0x63 ,0x55 ,0x21 ,0x0c ,0x7d);"
   ]
  },
  {
   "cell_type": "markdown",
   "metadata": {},
   "source": [
    "Calculate the Hamming weight of the guess.\n",
    "Convert every possible value 0-16 to binary and count the 1s.\n",
    "Store in HammingWeight look-up table."
   ]
  },
  {
   "cell_type": "code",
   "execution_count": 10,
   "metadata": {},
   "outputs": [],
   "source": [
    "HammingWeight = [bin(n).count('1') for n in range(0,256)]"
   ]
  },
  {
   "cell_type": "markdown",
   "metadata": {},
   "source": [
    "Calculate the Hamming distance of two byte inputs, which is the number of positions at which we have different bits.\n",
    "To achieve this perform their XOR operation, (a ^ b), and then count the total number of 1s in the result.\n",
    "\n",
    "We will calculate the Hamming distance between the old and the new register state (i.e., the number of bit flips caused when the old register state gets updated with the new register state)."
   ]
  },
  {
   "cell_type": "code",
   "execution_count": 11,
   "metadata": {},
   "outputs": [],
   "source": [
    "def HammingDistance(a, b):\n",
    "    hd = HammingWeight[a ^ b]\n",
    "    \n",
    "    return hd"
   ]
  },
  {
   "cell_type": "markdown",
   "metadata": {},
   "source": [
    "#### Construct the power-prediction matrix (hypothetical power consumption), by applying Hemming Weight to the value-prediction matrix values. \n",
    "Value-prediction matrix on variable y: No_inputs X No_keys.\n",
    "Save the hypothetical values for each associated plaintext (input) with each possible guess (16 guesses in total)."
   ]
  },
  {
   "cell_type": "code",
   "execution_count": 12,
   "metadata": {},
   "outputs": [],
   "source": [
    "def get_power_prediction_matrix(no_outputs, outputs):\n",
    "    # Initialize power prediction matrix\n",
    "    power_pred = np.zeros(shape=(no_outputs, 256))\n",
    "\n",
    "    for i in range(no_outputs):\n",
    "        for key in range(0, 256):\n",
    "            predicted_in = inverted_SBox(outputs[i][0], key)\n",
    "            power_pred[i][key] = HammingDistance(predicted_in, outputs[i][0])\n",
    "\n",
    "    np.shape(power_pred)  \n",
    "    \n",
    "    return power_pred"
   ]
  },
  {
   "cell_type": "code",
   "execution_count": 13,
   "metadata": {},
   "outputs": [],
   "source": [
    "power_pred = get_power_prediction_matrix(no_outputs, outputs)"
   ]
  },
  {
   "cell_type": "code",
   "execution_count": 14,
   "metadata": {},
   "outputs": [
    {
     "data": {
      "text/plain": [
       "array([[6., 5., 3., ..., 3., 7., 5.],\n",
       "       [6., 3., 4., ..., 3., 5., 2.],\n",
       "       [4., 4., 6., ..., 5., 4., 3.],\n",
       "       ...,\n",
       "       [2., 3., 5., ..., 5., 4., 5.],\n",
       "       [6., 2., 0., ..., 2., 3., 3.],\n",
       "       [4., 5., 2., ..., 4., 3., 3.]])"
      ]
     },
     "execution_count": 14,
     "metadata": {},
     "output_type": "execute_result"
    }
   ],
   "source": [
    "power_pred"
   ]
  },
  {
   "cell_type": "markdown",
   "metadata": {},
   "source": [
    "#### For all possible k candidates, compute the column-wise correlation between the traces matrix and the power-prediction matrix. Every guess will be compared to all traces.\n",
    "#### Pearson Correlation Formula:\n",
    "$ r = \\frac{{}\\sum_{i=1}^{n} (h_i - \\overline{h})(t_i - \\overline{t})}\n",
    "{\\sqrt{\\sum_{i=1}^{n} (h_i - \\overline{t})^2(t_i - \\overline{t})^2}} $\n",
    "\n",
    "Where: \n",
    "    <ul>\n",
    "    <li> i - i iterates over the traces </li>\n",
    "    <li> h - hypothetical values (from power prediction matrix) </li>\n",
    "    <li> t - trace values (traces/ measurement matrix) </li>\n",
    "    </ul>\n",
    "\n",
    "We will use numpy.corrcoef to obtain the Pearson correlation coefficients.\n",
    "Ref: https://docs.scipy.org/doc/numpy/reference/generated/numpy.corrcoef.html"
   ]
  },
  {
   "cell_type": "code",
   "execution_count": 15,
   "metadata": {},
   "outputs": [],
   "source": [
    "def correlate_traces_with_hypotheses(traces, power_pred):\n",
    "    no_col_traces = np.shape(traces)[1]\n",
    "    no_col_power_pred = 256 # 256 key guesses (0..255)\n",
    "    \n",
    "    correlation = np.zeros(shape=(no_col_power_pred, no_col_traces))\n",
    "    \n",
    "    # Compute correlation between columns\n",
    "    for power_pred_col in range(no_col_power_pred): # hypothetical values for the guess keys\n",
    "        for traces_col in range(no_col_traces): # real values\n",
    "            correlation[power_pred_col, traces_col] = np.corrcoef(power_pred[:,power_pred_col], traces[:,traces_col], rowvar=1)[0][1]\n",
    "            \n",
    "    return correlation   "
   ]
  },
  {
   "cell_type": "code",
   "execution_count": 16,
   "metadata": {},
   "outputs": [],
   "source": [
    "# traces 10k X 2k\n",
    "np.shape(traces)\n",
    "# power_pred 10k X 256\n",
    "np.shape(power_pred)\n",
    "\n",
    "# absolute candidates 256 X 2k\n",
    "abs_candidates = abs(correlate_traces_with_hypotheses(traces, power_pred))"
   ]
  },
  {
   "cell_type": "code",
   "execution_count": 17,
   "metadata": {},
   "outputs": [
    {
     "data": {
      "text/plain": [
       "array([[0.00056536, 0.00056536, 0.01773906, ..., 0.00146137, 0.01173987,\n",
       "        0.00306712],\n",
       "       [0.0022185 , 0.0022185 , 0.00576695, ..., 0.0083649 , 0.00089003,\n",
       "        0.00571096],\n",
       "       [0.00506797, 0.00506797, 0.00084389, ..., 0.0033969 , 0.00324949,\n",
       "        0.01041418],\n",
       "       ...,\n",
       "       [0.0026269 , 0.0026269 , 0.00179821, ..., 0.00840452, 0.00543519,\n",
       "        0.00217057],\n",
       "       [0.00272805, 0.00272805, 0.00452008, ..., 0.00051659, 0.0120217 ,\n",
       "        0.00507977],\n",
       "       [0.00993921, 0.00993921, 0.00924245, ..., 0.01027903, 0.00525836,\n",
       "        0.00775601]])"
      ]
     },
     "execution_count": 17,
     "metadata": {},
     "output_type": "execute_result"
    }
   ],
   "source": [
    "abs_candidates"
   ]
  },
  {
   "cell_type": "code",
   "execution_count": 18,
   "metadata": {},
   "outputs": [],
   "source": [
    "def get_top_candidate(candidates):       \n",
    "    # The top candidate will be chosen based on absolute correlation.\n",
    "    # The highest correlation reveals the actual KEY.\n",
    "    candidates_max = np.zeros(256)\n",
    "    \n",
    "    # Only store the maximum cpa across all points in the trace 256 X 1\n",
    "    for i in range(256):\n",
    "        candidates_max[i] = max(candidates[i])\n",
    "        \n",
    "    # Rank the key candidates from best to worst, based on the absolute value of the correlation function.\n",
    "    print('Top candidates: ', candidates_max.argsort()[::-1][:])\n",
    "    \n",
    "    # The highest correlation value reveals the key\n",
    "    top_candidate_row = np.argmax(candidates_max)\n",
    "    \n",
    "    return top_candidate_row"
   ]
  },
  {
   "cell_type": "code",
   "execution_count": 19,
   "metadata": {},
   "outputs": [
    {
     "name": "stdout",
     "output_type": "stream",
     "text": [
      "Top candidates:  [ 71  90 216 137  58   9 169 119 177  56  98 120 244  37 193   6 173 197\n",
      "  15 162  24  64 190 254  28 200 136 111 240  74 145 158 204 134 205  97\n",
      " 124 237 129   0 201  12  42  80 234 178  91 194 184 117 155 167  20  93\n",
      " 153 112 144  99 131 116  13  40 217 218  79 215 168  92  36 171 220 108\n",
      " 196 142  84 192  35  95 191  27 252  78  38 109 236  47 253  67 208  51\n",
      " 106 226  82 154  59  69  23 122 113 222  85  39   8  87 123  14 248 230\n",
      "  66 203  81 175 213 223 179  17 242 164 182 202 128   5   7 107 221  72\n",
      " 146 209   2  34 103 170 232 245 140  53 195 135  21 231 227 165  88  32\n",
      " 255  86 211 249 105 214  11 156 224 238  65 241 166 243 250 206 225  31\n",
      " 150  55 138  44  19  29  61 151 228 233 198 207 147 163 251 118 126  49\n",
      " 125 186  30 101 172 127  52   4 183 141  96 174   1 229 157  50  76 235\n",
      "  77  73  83 185 100   3 187 212 176  60 121 130 159 210  75 148 160 199\n",
      " 247 149 133  63 181  70  41 143 161 152  62  57  10 115 219  43  54 104\n",
      "  22 132  89 246  25  48  46 239  68  18 139  45 110  33 188  94  16 102\n",
      " 180 189  26 114]\n"
     ]
    }
   ],
   "source": [
    "top_candidate = get_top_candidate(abs_candidates)"
   ]
  },
  {
   "cell_type": "code",
   "execution_count": 20,
   "metadata": {},
   "outputs": [
    {
     "name": "stdout",
     "output_type": "stream",
     "text": [
      "Key number 71 is the top candidate.\n"
     ]
    }
   ],
   "source": [
    "print(\"Key number\", top_candidate, \"is the top candidate.\")"
   ]
  },
  {
   "cell_type": "code",
   "execution_count": 21,
   "metadata": {},
   "outputs": [
    {
     "data": {
      "image/png": "[encoded data removed]",
      "text/plain": [
       "<Figure size 432x288 with 1 Axes>"
      ]
     },
     "metadata": {
      "needs_background": "light"
     },
     "output_type": "display_data"
    }
   ],
   "source": [
    "# For every time sample, plot the absolute correlation value for every k candidate\n",
    "plt.figure()\n",
    "\n",
    "for i in range(np.shape(abs_candidates)[0]): # 256 candidate keys\n",
    "        if (i == top_candidate):\n",
    "            plt.plot(abs_candidates[i], color= '#51A5EB', zorder=2)\n",
    "        else:\n",
    "            plt.plot(abs_candidates[i], color = '#DCDCDC', zorder=1)\n",
    "        \n",
    "plt.title(\"Absolute correlation values for the key candidates\")\n",
    "plt.xlabel(\"Time\")\n",
    "plt.ylabel(\"Correlation\")\n",
    "plt.show()"
   ]
  },
  {
   "cell_type": "code",
   "execution_count": 22,
   "metadata": {},
   "outputs": [],
   "source": [
    "def get_top_candidate_ranking(candidates):       \n",
    "    # The top candidate will be chosen based on absolute correlation.\n",
    "    # The highest correlation reveals the actual KEY.\n",
    "    candidates_max = np.zeros(256)\n",
    "    \n",
    "    # Only store the maximum cpa across all points in the trace 256 X 1\n",
    "    for i in range(256):\n",
    "        candidates_max[i] = max(candidates[i])\n",
    "        \n",
    "    # Rank the key candidates from best to worst, based on the absolute value of the correlation function.\n",
    "    best_to_worse = candidates_max.argsort()[::-1][:]\n",
    "    print('Top candidates: ', best_to_worse)\n",
    "    \n",
    "    # ranking between 1 and 256 (add 1 to the position of the best candidate)\n",
    "    top_candidate_ranking = np.where(best_to_worse == 6)[0] + 1 \n",
    "    \n",
    "    return top_candidate_ranking"
   ]
  },
  {
   "cell_type": "code",
   "execution_count": 23,
   "metadata": {},
   "outputs": [],
   "source": [
    "def run_attack(no_inputs, inputs, traces):\n",
    "    # Keep only the first no_inputs traces\n",
    "    traces = traces[:no_inputs]\n",
    "    \n",
    "    power_pred = get_power_prediction_matrix(no_inputs)\n",
    "    \n",
    "    # absolute candidates 256 X 2k\n",
    "    abs_candidates = abs(correlate_traces_with_hypotheses(traces, power_pred))\n",
    "    \n",
    "    top_candidate_ranking = get_top_candidate_ranking(abs_candidates)\n",
    "    \n",
    "    return top_candidate_ranking"
   ]
  },
  {
   "cell_type": "code",
   "execution_count": null,
   "metadata": {},
   "outputs": [],
   "source": []
  }
 ],
 "metadata": {
  "kernelspec": {
   "display_name": "Python 3",
   "language": "python",
   "name": "python3"
  },
  "language_info": {
   "codemirror_mode": {
    "name": "ipython",
    "version": 3
   },
   "file_extension": ".py",
   "mimetype": "text/x-python",
   "name": "python",
   "nbconvert_exporter": "python",
   "pygments_lexer": "ipython3",
   "version": "3.6.8"
  }
 },
 "nbformat": 4,
 "nbformat_minor": 2
}
