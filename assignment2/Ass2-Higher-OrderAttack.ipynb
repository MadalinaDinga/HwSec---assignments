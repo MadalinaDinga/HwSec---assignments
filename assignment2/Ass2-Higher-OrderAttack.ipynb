{
 "cells": [
  {
   "cell_type": "code",
   "execution_count": 1,
   "metadata": {},
   "outputs": [],
   "source": [
    "import numpy as np\n",
    "import matplotlib.pyplot as plt\n",
    "import scipy.io\n",
    "\n",
    "def load_inputs():\n",
    "    # Open and read the “in” Matlab file\n",
    "    inputs = scipy.io.loadmat(r'.\\data\\in.mat')\n",
    "\n",
    "    # Get inputs as numpy array\n",
    "    inputs = inputs['in']\n",
    "\n",
    "    return inputs"
   ]
  },
  {
   "cell_type": "markdown",
   "metadata": {},
   "source": [
    "#### Traces/ measurement matrix: No_inputs X No_samples"
   ]
  },
  {
   "cell_type": "code",
   "execution_count": 2,
   "metadata": {},
   "outputs": [],
   "source": [
    "#def load_traces():\n",
    "    # Open and read the “traces” Matlab file\n",
    "   # traces = scipy.io.loadmat(r'.\\data\\traces.mat')\n",
    "\n",
    "   # traces = traces['traces']\n",
    "    \n",
    "   # return traces"
   ]
  },
  {
   "cell_type": "code",
   "execution_count": 3,
   "metadata": {},
   "outputs": [],
   "source": [
    "# Read data\n",
    "inputs = load_inputs()\n",
    "#traces = load_traces()\n",
    "\n",
    "# 2000 4-bit inputs used in the attack \n",
    "no_inputs = np.shape(inputs)[0]\n",
    "\n",
    "# 14900 traces of 6990 time samples each\n",
    "#no_traces = np.shape(traces)[0]\n",
    "\n",
    "#assert(no_traces == no_inputs)\n",
    "\n",
    "# Hardcode here the number of power traces to run the attack with\n",
    "# no_inputs = 500\n",
    "\n",
    "# Keep only the first 500 traces\n",
    "# traces = traces[:no_inputs]"
   ]
  },
  {
   "cell_type": "code",
   "execution_count": null,
   "metadata": {},
   "outputs": [],
   "source": [
    "# Generate a random number r0, between 0 and 15\n",
    "\n",
    "# import the random module\n",
    "import random\n",
    "\n",
    "r0 = (random.randint(0,15))"
   ]
  },
  {
   "cell_type": "code",
   "execution_count": null,
   "metadata": {},
   "outputs": [],
   "source": [
    "# Splitting phase\n",
    "# Split in into in0 and in1\n",
    "in0 = r0\n",
    "in1 = (in ^ r0)"
   ]
  },
  {
   "cell_type": "code",
   "execution_count": 6,
   "metadata": {},
   "outputs": [],
   "source": [
    "# Key addition phase\n",
    "# Creating x1 and x2\n",
    "x0 = r0\n",
    "x1 = (in1 ^ key)"
   ]
  },
  {
   "cell_type": "code",
   "execution_count": null,
   "metadata": {},
   "outputs": [],
   "source": [
    "# Substitution phase- Part1\n",
    "# Defining A:\n",
    "def A(x0 , x1):\n",
    "    return A[x0 + x1]"
   ]
  },
  {
   "cell_type": "code",
   "execution_count": 4,
   "metadata": {},
   "outputs": [],
   "source": [
    "#def plot_1st_trace():\n",
    "   # plt.plot(traces[0])\n",
    "    #plt.title(\"Representation of the 1st trace in time\")\n",
    "    #plt.xlabel(\"Power consumption\")\n",
    "    #plt.ylabel(\"Time\")\n",
    "    #plt.show()"
   ]
  },
  {
   "cell_type": "code",
   "execution_count": 5,
   "metadata": {},
   "outputs": [
    {
     "data": {
      "image/png": "[encoded data removed]",
      "text/plain": [
       "<Figure size 432x288 with 1 Axes>"
      ]
     },
     "metadata": {
      "needs_background": "light"
     },
     "output_type": "display_data"
    }
   ],
   "source": [
    "#plot_1st_trace()"
   ]
  },
  {
   "cell_type": "markdown",
   "metadata": {},
   "source": [
    "Each input 4-bit value is XOR'd with a 4-bit secret key (unknown). This is passed through an S-Box (a look-up table). The output of the S-Box will be used to check the guessed value of the key. In this step we will predict all possible values of y, by using in and guessing all the values of the 4-bit key chunk, k."
   ]
  },
  {
   "cell_type": "code",
   "execution_count": 7,
   "metadata": {},
   "outputs": [],
   "source": [
    "# 4-bit to 4-bit S-box in PRESENT cipher\n",
    "#       0   1   2   3   4   5   6   7   8   9   a   b   c   d   e   f\n",
    "sbox= (0xc,0x5,0x6,0xb,0x9,0x0,0xa,0xd,0x3,0xe,0xf,0x8,0x4,0x7,0x1,0x2)"
   ]
  },
  {
   "cell_type": "markdown",
   "metadata": {},
   "source": [
    "Calculate the Hamming Weight of the guess.\n",
    "Convert every possible value 0-16 to binary and count the 1s.\n",
    "Store in HammingWeight look-up table."
   ]
  },
  {
   "cell_type": "code",
   "execution_count": 8,
   "metadata": {},
   "outputs": [
    {
     "data": {
      "text/plain": [
       "[0, 1, 1, 2, 1, 2, 2, 3, 1, 2, 2, 3, 2, 3, 3, 4]"
      ]
     },
     "execution_count": 8,
     "metadata": {},
     "output_type": "execute_result"
    }
   ],
   "source": [
    "HammingWeight = [bin(n).count('1') for n in range(0,16)]\n",
    "HammingWeight"
   ]
  },
  {
   "cell_type": "markdown",
   "metadata": {},
   "source": [
    "#### Construct the power-prediction matrix (hypothetical power consumption), by applying Hemming Weight to the value-prediction matrix values. \n",
    "Value-prediction matrix on variable y: No_inputs X No_keys.\n",
    "Save the hypothetical values for each associated plaintext (input) with each possible guess (16 guesses in total)."
   ]
  },
  {
   "cell_type": "code",
   "execution_count": 9,
   "metadata": {},
   "outputs": [],
   "source": [
    "def get_power_prediction_matrix(no_inputs):\n",
    "    # Initialize power prediction matrix\n",
    "    power_pred = np.zeros(shape=(no_inputs, 16))\n",
    "\n",
    "    for i in range(no_inputs):\n",
    "        for key in range(0, 16):\n",
    "            power_pred[i][key] = HammingWeight[SBox(inputs[i][0], key)]\n",
    "\n",
    "    np.shape(power_pred)  \n",
    "    \n",
    "    return power_pred"
   ]
  },
  {
   "cell_type": "code",
   "execution_count": 10,
   "metadata": {},
   "outputs": [],
   "source": [
    "power_pred = get_power_prediction_matrix(no_inputs)"
   ]
  },
  {
   "cell_type": "code",
   "execution_count": 11,
   "metadata": {},
   "outputs": [
    {
     "data": {
      "text/plain": [
       "array([[2., 2., 2., ..., 3., 1., 1.],\n",
       "       [2., 3., 4., ..., 0., 2., 3.],\n",
       "       [3., 2., 1., ..., 2., 3., 2.],\n",
       "       ...,\n",
       "       [3., 2., 2., ..., 1., 3., 1.],\n",
       "       [2., 3., 4., ..., 0., 2., 3.],\n",
       "       [3., 1., 1., ..., 2., 3., 2.]])"
      ]
     },
     "execution_count": 11,
     "metadata": {},
     "output_type": "execute_result"
    }
   ],
   "source": [
    "power_pred"
   ]
  },
  {
   "cell_type": "markdown",
   "metadata": {},
   "source": [
    "#### For all possible k candidates, compute the column-wise correlation between the traces matrix and the power-prediction matrix. Every guess will be compared to all traces.\n",
    "#### Pearson Correlation Formula:\n",
    "$ r = \\frac{{}\\sum_{i=1}^{n} (h_i - \\overline{h})(t_i - \\overline{t})}\n",
    "{\\sqrt{\\sum_{i=1}^{n} (h_i - \\overline{t})^2(t_i - \\overline{t})^2}} $\n",
    "\n",
    "Where: \n",
    "    <ul>\n",
    "    <li> i - i iterates over the traces </li>\n",
    "    <li> h - hypothetical values (from power prediction matrix) </li>\n",
    "    <li> t - trace values (traces/ measurement matrix) </li>\n",
    "    </ul>\n",
    "\n",
    "We will use numpy.corrcoef to obtain the Pearson correlation coefficients.\n",
    "Ref: https://docs.scipy.org/doc/numpy/reference/generated/numpy.corrcoef.html"
   ]
  },
  {
   "cell_type": "code",
   "execution_count": 12,
   "metadata": {},
   "outputs": [],
   "source": [
    "def correlate_traces_with_hypotheses(traces, power_pred):\n",
    "    no_col_traces = np.shape(traces)[1]\n",
    "    no_col_power_pred = 16 # 16 key guesses (0..15)\n",
    "    \n",
    "    correlation = np.zeros(shape=(no_col_power_pred, no_col_traces))\n",
    "    \n",
    "    # Compute correlation between columns\n",
    "    for power_pred_col in range(no_col_power_pred): # hypothetical values for the guess keys\n",
    "        for traces_col in range(no_col_traces): # real values\n",
    "            correlation[power_pred_col, traces_col] = np.corrcoef(power_pred[:,power_pred_col], traces[:,traces_col], rowvar=1)[0][1]\n",
    "            \n",
    "    return correlation   "
   ]
  },
  {
   "cell_type": "code",
   "execution_count": 13,
   "metadata": {},
   "outputs": [],
   "source": [
    "# traces 14900 X 6990\n",
    "np.shape(traces)\n",
    "# power_pred 149000 X 16\n",
    "np.shape(power_pred)\n",
    "\n",
    "# absolute candidates 16 X 6990\n",
    "abs_candidates = abs(correlate_traces_with_hypotheses(traces, power_pred))"
   ]
  },
  {
   "cell_type": "code",
   "execution_count": 14,
   "metadata": {},
   "outputs": [
    {
     "data": {
      "text/plain": [
       "array([[0.03348783, 0.03800449, 0.00253007, ..., 0.03427277, 0.01495866,\n",
       "        0.0208912 ],\n",
       "       [0.04762932, 0.04429132, 0.04219041, ..., 0.00041161, 0.00467283,\n",
       "        0.02385718],\n",
       "       [0.00198881, 0.02449621, 0.00028099, ..., 0.01231714, 0.02471744,\n",
       "        0.00895936],\n",
       "       ...,\n",
       "       [0.04978649, 0.02209946, 0.0052512 , ..., 0.04074536, 0.02702487,\n",
       "        0.01288819],\n",
       "       [0.05429487, 0.04169866, 0.03440161, ..., 0.01664969, 0.04265499,\n",
       "        0.03357413],\n",
       "       [0.01178389, 0.04569755, 0.03811546, ..., 0.03689632, 0.01919994,\n",
       "        0.00853636]])"
      ]
     },
     "execution_count": 14,
     "metadata": {},
     "output_type": "execute_result"
    }
   ],
   "source": [
    "abs_candidates"
   ]
  },
  {
   "cell_type": "code",
   "execution_count": 15,
   "metadata": {},
   "outputs": [],
   "source": [
    "def get_top_candidate(candidates):       \n",
    "    # The top candidate will be chosen based on absolute correlation.\n",
    "    # The highest correlation reveals the actual KEY.\n",
    "    candidates_max = np.zeros(16)\n",
    "    \n",
    "    # Only store the maximum cpa across all points in the trace 16 X 1\n",
    "    for i in range(16):\n",
    "        candidates_max[i] = max(candidates[i])\n",
    "        \n",
    "    # Rank the key candidates from best to worst, based on the absolute value of the correlation function.\n",
    "    print('Top candidates: ', candidates_max.argsort()[::-1][:])\n",
    "    \n",
    "    # The highest correlation value reveals the key\n",
    "    top_candidate_row = np.argmax(candidates_max)\n",
    "    \n",
    "    return top_candidate_row"
   ]
  },
  {
   "cell_type": "code",
   "execution_count": 16,
   "metadata": {},
   "outputs": [
    {
     "name": "stdout",
     "output_type": "stream",
     "text": [
      "Top candidates:  [11  0  2 15 12  8  4  5 13  7  9 14  3 10  6  1]\n"
     ]
    }
   ],
   "source": [
    "top_candidate = get_top_candidate(abs_candidates)"
   ]
  },
  {
   "cell_type": "code",
   "execution_count": 17,
   "metadata": {},
   "outputs": [
    {
     "data": {
      "image/png": "[encoded data removed]",
      "text/plain": [
       "<Figure size 432x288 with 1 Axes>"
      ]
     },
     "metadata": {
      "needs_background": "light"
     },
     "output_type": "display_data"
    }
   ],
   "source": [
    "# For every time sample, plot the absolute correlation value for every k candidate\n",
    "plt.figure()\n",
    "\n",
    "for i in range(np.shape(abs_candidates)[0]): # 16 candidate keys\n",
    "        if (i == top_candidate):\n",
    "            plt.plot(abs_candidates[i], color= '#51A5EB', zorder=2)\n",
    "        else:\n",
    "            plt.plot(abs_candidates[i], color = '#DCDCDC', zorder=1)\n",
    "        \n",
    "plt.title(\"Absolute correlation values for the key candidates\")\n",
    "plt.xlabel(\"Time\")\n",
    "plt.ylabel(\"Correlation\")\n",
    "plt.show()"
   ]
  },
  {
   "cell_type": "code",
   "execution_count": 47,
   "metadata": {},
   "outputs": [],
   "source": [
    "def get_top_candidate_ranking(candidates):       \n",
    "    # The top candidate will be chosen based on absolute correlation.\n",
    "    # The highest correlation reveals the actual KEY.\n",
    "    candidates_max = np.zeros(16)\n",
    "    \n",
    "    # Only store the maximum cpa across all points in the trace 16 X 1\n",
    "    for i in range(16):\n",
    "        candidates_max[i] = max(candidates[i])\n",
    "        \n",
    "    # Rank the key candidates from best to worst, based on the absolute value of the correlation function.\n",
    "    best_to_worse = candidates_max.argsort()[::-1][:]\n",
    "    print('Top candidates: ', best_to_worse)\n",
    "    \n",
    "    # ranking between 1 and 16 (add 1 to the position of the best candidate, which is 6)\n",
    "    top_candidate_ranking = np.where(best_to_worse == 6)[0] + 1 \n",
    "    \n",
    "    return top_candidate_ranking"
   ]
  },
  {
   "cell_type": "code",
   "execution_count": 48,
   "metadata": {},
   "outputs": [],
   "source": [
    "def run_attack(no_inputs, inputs, traces):\n",
    "    # Keep only the first no_inputs traces\n",
    "    traces = traces[:no_inputs]\n",
    "    \n",
    "    power_pred = get_power_prediction_matrix(no_inputs)\n",
    "    \n",
    "    # absolute candidates 16 X 6990\n",
    "    abs_candidates = abs(correlate_traces_with_hypotheses(traces, power_pred))\n",
    "    \n",
    "    top_candidate_ranking = get_top_candidate_ranking(abs_candidates)\n",
    "    \n",
    "    return top_candidate_ranking"
   ]
  },
  {
   "cell_type": "code",
   "execution_count": 49,
   "metadata": {},
   "outputs": [
    {
     "name": "stdout",
     "output_type": "stream",
     "text": [
      "Top candidates:  [11  0  2 15 12  8  4  5 13  7  9 14  3 10  6  1]\n",
      "No_inputs  500 : [15]\n",
      "Top candidates:  [ 2 13 11 12  4  1  0  3 14 15  8  9  5  7 10  6]\n",
      "No_inputs  1000 : [16]\n",
      "Top candidates:  [ 0  7  4 13  1 15  9 12 11  3 10  8 14  5  6  2]\n",
      "No_inputs  2000 : [15]\n",
      "Top candidates:  [13 12  7 14  9  5 11 15  6  2  4  1  0 10  8  3]\n",
      "No_inputs  4000 : [9]\n",
      "Top candidates:  [ 7  6  2  1  0 15  8  4  5 10  3  9 14 11 12 13]\n",
      "No_inputs  8000 : [2]\n",
      "Top candidates:  [ 6  5 12  3  4  1 13  0 10  2 11  9 15 14  8  7]\n",
      "No_inputs  12000 : [1]\n"
     ]
    }
   ],
   "source": [
    "# Run the attack with 500, 1k, 2k 4k, 8k and 12k power traces\n",
    "# For every attack, rank the candidates from best to worst. \n",
    "# Plot the correct candidate’s ranking (e.g. 1st, 2nd etc.) for all these attacks.\n",
    "\n",
    "# Read data\n",
    "inputs = load_inputs()\n",
    "traces = load_traces()\n",
    "\n",
    "# 14900 4-bit inputs used in the attack \n",
    "no_inputs = np.shape(inputs)[0]\n",
    "\n",
    "# 14900 traces of 6990 time samples each\n",
    "no_traces = np.shape(traces)[0]\n",
    "\n",
    "assert(no_traces == no_inputs)\n",
    "\n",
    "# Hardcode here the number of power traces to run the attack with\n",
    "no_inputs_att = (500, 1000, 2000, 4000, 8000, 12000)\n",
    "\n",
    "rankings = []\n",
    "\n",
    "for no_inputs_attack in no_inputs_att:\n",
    "    top_candidate_ranking = run_attack(no_inputs_attack, inputs, traces)\n",
    "    \n",
    "    rankings.append(top_candidate_ranking[0])\n",
    "\n",
    "    print('No_inputs ', no_inputs_attack, ':', top_candidate_ranking[0])"
   ]
  },
  {
   "cell_type": "code",
   "execution_count": 50,
   "metadata": {},
   "outputs": [
    {
     "data": {
      "text/plain": [
       "[15, 16, 15, 9, 2, 1]"
      ]
     },
     "execution_count": 50,
     "metadata": {},
     "output_type": "execute_result"
    }
   ],
   "source": [
    "rankings"
   ]
  },
  {
   "cell_type": "code",
   "execution_count": 51,
   "metadata": {},
   "outputs": [
    {
     "data": {
      "image/png": "[encoded data removed]",
      "text/plain": [
       "<Figure size 432x288 with 1 Axes>"
      ]
     },
     "metadata": {
      "needs_background": "light"
     },
     "output_type": "display_data"
    }
   ],
   "source": [
    "# Plot the correct candidate’s ranking (e.g. 1st, 2nd etc.) for all these attacks.\n",
    "# For every time sample, plot the absolute correlation value for every k candidate\n",
    "plt.figure()\n",
    "\n",
    "plt.plot(no_inputs_att, rankings, color= '#51A5EB', zorder=2)\n",
    "        \n",
    "plt.title(\"Correct candidate’s ranking\")\n",
    "plt.xlabel(\"No_traces per atack\")\n",
    "plt.ylabel(\"Candidate ranking\")\n",
    "plt.show()"
   ]
  }
 ],
 "metadata": {
  "kernelspec": {
   "display_name": "Python 3",
   "language": "python",
   "name": "python3"
  },
  "language_info": {
   "codemirror_mode": {
    "name": "ipython",
    "version": 3
   },
   "file_extension": ".py",
   "mimetype": "text/x-python",
   "name": "python",
   "nbconvert_exporter": "python",
   "pygments_lexer": "ipython3",
   "version": "3.7.1"
  }
 },
 "nbformat": 4,
 "nbformat_minor": 2
}
