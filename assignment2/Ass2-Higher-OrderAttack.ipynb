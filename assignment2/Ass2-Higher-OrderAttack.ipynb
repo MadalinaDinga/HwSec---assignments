{
 "cells": [
  {
   "cell_type": "code",
   "execution_count": 1,
   "metadata": {},
   "outputs": [],
   "source": [
    "import numpy as np\n",
    "import matplotlib.pyplot as plt\n",
    "import scipy.io\n",
    "\n",
    "def load_inputs():\n",
    "    # Open and read the “in” Matlab file\n",
    "    inputs = scipy.io.loadmat(r'.\\data\\in.mat')\n",
    "\n",
    "    # Get inputs as numpy array\n",
    "    inputs = inputs['in']\n",
    "\n",
    "    return inputs"
   ]
  },
  {
   "cell_type": "code",
   "execution_count": 3,
   "metadata": {},
   "outputs": [],
   "source": [
    "# Read data\n",
    "inputs = load_inputs()\n",
    "traces = load_traces()\n",
    "\n",
    "# 2000 4-bit inputs used in the attack \n",
    "no_inputs = np.shape(inputs)[0]\n",
    "\n",
    "# 2k traces, 10 samples each):\n",
    "no_traces = np.shape(traces)[0]\n",
    "\n",
    "#assert(no_traces == no_inputs)\n",
    "\n",
    "# Hardcode here the number of power traces to run the attack with\n",
    "# no_inputs = 500\n",
    "\n",
    "# Keep only the first 500 traces\n",
    "# traces = traces[:no_inputs]"
   ]
  },
  {
   "cell_type": "code",
   "execution_count": null,
   "metadata": {},
   "outputs": [],
   "source": [
    "# Generate a random number r0, between 0 and 15\n",
    "\n",
    "# import the random module\n",
    "import random\n",
    "\n",
    "r0 = (random.randint(0,15))"
   ]
  },
  {
   "cell_type": "code",
   "execution_count": null,
   "metadata": {},
   "outputs": [],
   "source": [
    "# Splitting phase\n",
    "# Split in into in0 and in1\n",
    "in0 = r0\n",
    "in1 = (in ^ r0)"
   ]
  },
  {
   "cell_type": "code",
   "execution_count": 6,
   "metadata": {},
   "outputs": [],
   "source": [
    "# Key addition phase\n",
    "# Creating x1 and x2\n",
    "x0 = r0\n",
    "x1 = (in1 ^ key)"
   ]
  },
  {
   "cell_type": "code",
   "execution_count": null,
   "metadata": {},
   "outputs": [],
   "source": [
    "# Substitution phase- Part1\n",
    "# Defining A:\n",
    "def A(x0 , x1):\n",
    "    return A[x0 + x1]"
   ]
  },
  {
   "cell_type": "markdown",
   "metadata": {},
   "source": []
  },
  {
   "cell_type": "code",
   "execution_count": 7,
   "metadata": {},
   "outputs": [],
   "source": [
    "# 4-bit to 4-bit S-box in PRESENT cipher\n",
    "#       0   1   2   3   4   5   6   7   8   9   a   b   c   d   e   f\n",
    "sbox= (0xc,0x5,0x6,0xb,0x9,0x0,0xa,0xd,0x3,0xe,0xf,0x8,0x4,0x7,0x1,0x2)"
   ]
  },
  {
   "cell_type": "code",
   "execution_count": null,
   "metadata": {},
   "outputs": [],
   "source": [
    "# Substitution phase- Part2\n",
    "# Defining B:\n",
    "def B()\n",
    "# maps an 8-bit input to a 4-bit output. It receives x0; x1\n",
    "# Returns the output of the SBox XORed with the output of the substitution phase part 1\n",
    "def SBox(x0 , x1):\n",
    "    return (sbox[x0 ^ x1] ^ A())"
   ]
  },
  {
   "cell_type": "code",
   "execution_count": null,
   "metadata": {},
   "outputs": [],
   "source": [
    "# Pre-processing step\n",
    "t' = scipy.misc.comb(traces, 2)"
   ]
  },
  {
   "cell_type": "code",
   "execution_count": null,
   "metadata": {},
   "outputs": [],
   "source": [
    "# Power prediction matrix\n",
    "    for i in range(no_inputs):\n",
    "        for key in range(0, 16):\n",
    "            power_pred[i][key] = HammingWeight[SBox(inputs[i][0], key)]"
   ]
  },
  {
   "cell_type": "markdown",
   "metadata": {},
   "source": [
    "#### For all possible k candidates, compute the column-wise correlation between the traces matrix and the power-prediction matrix. Every guess will be compared to all traces.\n",
    "#### Pearson Correlation Formula:\n",
    "$ r = \\frac{{}\\sum_{i=1}^{n} (h_i - \\overline{h})(t_i - \\overline{t})}\n",
    "{\\sqrt{\\sum_{i=1}^{n} (h_i - \\overline{t})^2(t_i - \\overline{t})^2}} $\n",
    "\n",
    "Where: \n",
    "    <ul>\n",
    "    <li> i - i iterates over the traces </li>\n",
    "    <li> h - hypothetical values (from power prediction matrix) </li>\n",
    "    <li> t - trace values (traces/ measurement matrix) </li>\n",
    "    </ul>\n",
    "\n",
    "We will use numpy.corrcoef to obtain the Pearson correlation coefficients.\n",
    "Ref: https://docs.scipy.org/doc/numpy/reference/generated/numpy.corrcoef.html"
   ]
  }
 ],
 "metadata": {
  "kernelspec": {
   "display_name": "Python 3",
   "language": "python",
   "name": "python3"
  },
  "language_info": {
   "codemirror_mode": {
    "name": "ipython",
    "version": 3
   },
   "file_extension": ".py",
   "mimetype": "text/x-python",
   "name": "python",
   "nbconvert_exporter": "python",
   "pygments_lexer": "ipython3",
   "version": "3.7.1"
  }
 },
 "nbformat": 4,
 "nbformat_minor": 2
}
