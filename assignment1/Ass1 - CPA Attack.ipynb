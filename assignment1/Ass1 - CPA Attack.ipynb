{
 "cells": [
  {
   "cell_type": "code",
   "execution_count": 1,
   "metadata": {},
   "outputs": [],
   "source": [
    "import numpy as np\n",
    "import matplotlib.pyplot as plt\n",
    "import scipy.io\n",
    "\n",
    "def load_inputs():\n",
    "    # Open and read the “in” Matlab file\n",
    "    inputs = scipy.io.loadmat(r'.\\data\\in.mat')\n",
    "\n",
    "    # Get inputs as numpy array\n",
    "    inputs = inputs['in']\n",
    "\n",
    "    return inputs"
   ]
  },
  {
   "cell_type": "markdown",
   "metadata": {},
   "source": [
    "#### Traces/ measurement matrix: No_inputs X No_samples"
   ]
  },
  {
   "cell_type": "code",
   "execution_count": 2,
   "metadata": {},
   "outputs": [],
   "source": [
    "def load_traces():\n",
    "    # Open and read the “traces” Matlab file\n",
    "    traces = scipy.io.loadmat(r'.\\data\\traces.mat')\n",
    "\n",
    "    traces = traces['traces']\n",
    "    \n",
    "    return traces"
   ]
  },
  {
   "cell_type": "code",
   "execution_count": 3,
   "metadata": {},
   "outputs": [],
   "source": [
    "# Read data\n",
    "inputs = load_inputs()\n",
    "traces = load_traces()\n",
    "\n",
    "# 14900 4-bit inputs used in the attack \n",
    "no_inputs = np.shape(inputs)[0]\n",
    "\n",
    "# 14900 traces of 6990 time samples each\n",
    "no_traces = np.shape(traces)[0]\n",
    "\n",
    "assert(no_traces == no_inputs)\n",
    "\n",
    "# Hardcode here the number of power traces to run the attack with\n",
    "# no_inputs = 500\n",
    "\n",
    "# Keep only the first 500 traces\n",
    "# traces = traces[:no_inputs]"
   ]
  },
  {
   "cell_type": "code",
   "execution_count": 4,
   "metadata": {},
   "outputs": [],
   "source": [
    "def plot_1st_trace():\n",
    "    plt.plot(traces[0])\n",
    "    plt.title(\"Representation of the 1st trace in time\")\n",
    "    plt.xlabel(\"Power consumption\")\n",
    "    plt.ylabel(\"Time\")\n",
    "    plt.show()"
   ]
  },
  {
   "cell_type": "code",
   "execution_count": 5,
   "metadata": {},
   "outputs": [
    {
     "data": {
      "image/png": "[encoded data removed]",
      "text/plain": [
       "<Figure size 432x288 with 1 Axes>"
      ]
     },
     "metadata": {
      "needs_background": "light"
     },
     "output_type": "display_data"
    }
   ],
   "source": [
    "plot_1st_trace()"
   ]
  },
  {
   "cell_type": "markdown",
   "metadata": {},
   "source": [
    "Each input 4-bit value is XOR'd with a 4-bit secret key (unknown). This is passed through an S-Box (a look-up table). The output of the S-Box will be used to check the guessed value of the key. In this step we will predict all possible values of y, by using in and guessing all the values of the 4-bit key chunk, k."
   ]
  },
  {
   "cell_type": "code",
   "execution_count": 6,
   "metadata": {},
   "outputs": [],
   "source": [
    "# Takes a 4-bit value of input and a 4-bit value of the hypothetical key\n",
    "# Returns the output of the SBox\n",
    "def SBox(in_val, key):\n",
    "    return sbox[in_val ^ key]"
   ]
  },
  {
   "cell_type": "code",
   "execution_count": 7,
   "metadata": {},
   "outputs": [],
   "source": [
    "# 4-bit to 4-bit S-box in PRESENT cipher\n",
    "#       0   1   2   3   4   5   6   7   8   9   a   b   c   d   e   f\n",
    "sbox= (0xc,0x5,0x6,0xb,0x9,0x0,0xa,0xd,0x3,0xe,0xf,0x8,0x4,0x7,0x1,0x2)"
   ]
  },
  {
   "cell_type": "markdown",
   "metadata": {},
   "source": [
    "Calculate the Hamming Weight of the guess.\n",
    "Convert every possible value 0-16 to binary and count the 1s.\n",
    "Store in HammingWeight look-up table."
   ]
  },
  {
   "cell_type": "code",
   "execution_count": 8,
   "metadata": {},
   "outputs": [
    {
     "data": {
      "text/plain": [
       "[0, 1, 1, 2, 1, 2, 2, 3, 1, 2, 2, 3, 2, 3, 3, 4]"
      ]
     },
     "execution_count": 8,
     "metadata": {},
     "output_type": "execute_result"
    }
   ],
   "source": [
    "HammingWeight = [bin(n).count('1') for n in range(0,16)]\n",
    "HammingWeight"
   ]
  },
  {
   "cell_type": "markdown",
   "metadata": {},
   "source": [
    "#### Construct the power-prediction matrix (hypothetical power consumption), by applying Hemming Weight to the value-prediction matrix values. \n",
    "Value-prediction matrix on variable y: No_inputs X No_keys.\n",
    "Save the hypothetical values for each associated plaintext (input) with each possible guess (16 guesses in total)."
   ]
  },
  {
   "cell_type": "code",
   "execution_count": 9,
   "metadata": {},
   "outputs": [],
   "source": [
    "def get_power_prediction_matrix(no_inputs):\n",
    "    # Initialize power prediction matrix\n",
    "    power_pred = np.zeros(shape=(no_inputs, 16))\n",
    "\n",
    "    for i in range(no_inputs):\n",
    "        for key in range(0, 16):\n",
    "            power_pred[i][key] = HammingWeight[SBox(inputs[i][0], key)]\n",
    "\n",
    "    np.shape(power_pred)  \n",
    "    \n",
    "    return power_pred"
   ]
  },
  {
   "cell_type": "code",
   "execution_count": 10,
   "metadata": {},
   "outputs": [],
   "source": [
    "# Run the attack with 500, 1k, 2k 4k, 8k and 12k power traces\n",
    "# For every attack, rank the candidates from best to worst. \n",
    "# Plot the correct candidate’s ranking (e.g. 1st, 2nd etc.) for all these attacks.\n",
    "# no_inputs = 500\n",
    "\n",
    "power_pred = get_power_prediction_matrix(no_inputs)"
   ]
  },
  {
   "cell_type": "code",
   "execution_count": 11,
   "metadata": {},
   "outputs": [
    {
     "data": {
      "text/plain": [
       "array([[2., 2., 2., ..., 3., 1., 1.],\n",
       "       [2., 3., 4., ..., 0., 2., 3.],\n",
       "       [3., 2., 1., ..., 2., 3., 2.],\n",
       "       ...,\n",
       "       [2., 3., 2., ..., 1., 1., 3.],\n",
       "       [2., 3., 2., ..., 1., 1., 3.],\n",
       "       [2., 0., 2., ..., 3., 4., 1.]])"
      ]
     },
     "execution_count": 11,
     "metadata": {},
     "output_type": "execute_result"
    }
   ],
   "source": [
    "power_pred"
   ]
  },
  {
   "cell_type": "markdown",
   "metadata": {},
   "source": [
    "#### For all possible k candidates, compute the column-wise correlation between the traces matrix and the power-prediction matrix. Every guess will be compared to all traces.\n",
    "#### Pearson Correlation Formula:\n",
    "$ r = \\frac{{}\\sum_{i=1}^{n} (h_i - \\overline{h})(t_i - \\overline{t})}\n",
    "{\\sqrt{\\sum_{i=1}^{n} (h_i - \\overline{t})^2(t_i - \\overline{t})^2}} $\n",
    "\n",
    "Where: \n",
    "    <ul>\n",
    "    <li> i - i iterates over the traces </li>\n",
    "    <li> h - hypothetical values (from power prediction matrix) </li>\n",
    "    <li> t - trace values (traces/ measurement matrix) </li>\n",
    "    </ul>\n",
    "\n",
    "We will use numpy.corrcoef to obtain the Pearson correlation coefficients.\n",
    "Ref: https://docs.scipy.org/doc/numpy/reference/generated/numpy.corrcoef.html"
   ]
  },
  {
   "cell_type": "code",
   "execution_count": 12,
   "metadata": {},
   "outputs": [],
   "source": [
    "def correlate_traces_with_hypotheses(traces, power_pred):\n",
    "    no_col_traces = np.shape(traces)[1]\n",
    "    no_col_power_pred = 16 # 16 key guesses (0..15)\n",
    "    \n",
    "    correlation = np.zeros(shape=(no_col_power_pred, no_col_traces))\n",
    "    \n",
    "    # Compute correlation between columns\n",
    "    for power_pred_col in range(no_col_power_pred): # hypothetical values for the guess keys\n",
    "        for traces_col in range(no_col_traces): # real values\n",
    "            correlation[power_pred_col, traces_col] = np.corrcoef(power_pred[:,power_pred_col], traces[:,traces_col], rowvar=1)[0][1]\n",
    "            \n",
    "    return correlation   "
   ]
  },
  {
   "cell_type": "code",
   "execution_count": 13,
   "metadata": {},
   "outputs": [],
   "source": [
    "# traces 14900 X 6990\n",
    "np.shape(traces)\n",
    "# power_pred 149000 X 16\n",
    "np.shape(power_pred)\n",
    "\n",
    "# absolute candidates 16 X 6990\n",
    "abs_candidates = abs(correlate_traces_with_hypotheses(traces, power_pred))"
   ]
  },
  {
   "cell_type": "code",
   "execution_count": 14,
   "metadata": {},
   "outputs": [
    {
     "data": {
      "text/plain": [
       "array([[0.01029502, 0.00253465, 0.00106446, ..., 0.00582373, 0.00056766,\n",
       "        0.00394233],\n",
       "       [0.00148743, 0.00081269, 0.00034324, ..., 0.01066925, 0.00461366,\n",
       "        0.00778674],\n",
       "       [0.01262911, 0.00751804, 0.00634696, ..., 0.00428974, 0.01389553,\n",
       "        0.01188856],\n",
       "       ...,\n",
       "       [0.00042684, 0.00082558, 0.00091989, ..., 0.00773322, 0.00730884,\n",
       "        0.0079668 ],\n",
       "       [0.0083595 , 0.00788109, 0.00858419, ..., 0.0032777 , 0.00496531,\n",
       "        0.01547352],\n",
       "       [0.00346547, 0.00451713, 0.0032943 , ..., 0.01040658, 0.00396858,\n",
       "        0.00081103]])"
      ]
     },
     "execution_count": 14,
     "metadata": {},
     "output_type": "execute_result"
    }
   ],
   "source": [
    "abs_candidates"
   ]
  },
  {
   "cell_type": "code",
   "execution_count": 17,
   "metadata": {},
   "outputs": [],
   "source": [
    "def get_top_candidate(candidates):       \n",
    "    # The top candidate will be chosen based on absolute correlation.\n",
    "    # The highest correlation reveals the actual KEY.\n",
    "    candidates_max = np.zeros(16)\n",
    "    \n",
    "    # Only store the maximum cpa across all points in the trace 16 X 1\n",
    "    for i in range(16):\n",
    "        candidates_max[i] = max(candidates[i])\n",
    "        \n",
    "    # Rank the key candidates from best to worst, based on the absolute value of the correlation function.\n",
    "    print('Top candidates: ', candidates_max.argsort()[::-1][:])\n",
    "    \n",
    "    # The highest correlation value reveals the key\n",
    "    top_candidate_row = np.argmax(candidates_max)\n",
    "    \n",
    "    return top_candidate_row"
   ]
  },
  {
   "cell_type": "code",
   "execution_count": 18,
   "metadata": {},
   "outputs": [
    {
     "name": "stdout",
     "output_type": "stream",
     "text": [
      "Top candidates:  [ 6 13  0  5 12 10  4  8  3  7 14 15  9  1 11  2]\n"
     ]
    }
   ],
   "source": [
    "top_candidate = get_top_candidate(abs_candidates)"
   ]
  },
  {
   "cell_type": "code",
   "execution_count": 21,
   "metadata": {},
   "outputs": [
    {
     "data": {
      "image/png": "[encoded data removed]",
      "text/plain": [
       "<Figure size 432x288 with 1 Axes>"
      ]
     },
     "metadata": {
      "needs_background": "light"
     },
     "output_type": "display_data"
    }
   ],
   "source": [
    "# For every time sample, plot the absolute correlation value for every k candidate\n",
    "plt.figure()\n",
    "\n",
    "for i in range(np.shape(abs_candidates)[0]): # 16 candidate keys\n",
    "        if (i == top_candidate):\n",
    "            plt.plot(abs_candidates[i], color= '#51A5EB', zorder=2)\n",
    "        else:\n",
    "            plt.plot(abs_candidates[i], color = '#DCDCDC', zorder=1)\n",
    "        \n",
    "plt.title(\"Absolute correlation values for the key candidates\")\n",
    "plt.xlabel(\"Time\")\n",
    "plt.ylabel(\"Correlation\")\n",
    "plt.show()"
   ]
  }
 ],
 "metadata": {
  "kernelspec": {
   "display_name": "Python 3",
   "language": "python",
   "name": "python3"
  },
  "language_info": {
   "codemirror_mode": {
    "name": "ipython",
    "version": 3
   },
   "file_extension": ".py",
   "mimetype": "text/x-python",
   "name": "python",
   "nbconvert_exporter": "python",
   "pygments_lexer": "ipython3",
   "version": "3.6.8"
  }
 },
 "nbformat": 4,
 "nbformat_minor": 2
}
